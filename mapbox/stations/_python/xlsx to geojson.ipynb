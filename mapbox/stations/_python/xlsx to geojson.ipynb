{
 "cells": [
  {
   "cell_type": "code",
   "execution_count": 3,
   "id": "7702d138",
   "metadata": {},
   "outputs": [
    {
     "name": "stdout",
     "output_type": "stream",
     "text": [
      "        city     type          x           y    gid          Name\n",
      "147   London  station  51.532541    0.003609  11189    Abbey Road\n",
      "148   London  station  51.514248   -0.075719  11010       Aldgate\n",
      "149   London  station  51.515619   -0.070839  11024  Aldgate East\n",
      "150   London  station  51.510560   -0.013008  11163    All Saints\n",
      "151   London  station  51.531842   -0.105714  10930         Angel\n",
      "...      ...      ...        ...         ...    ...           ...\n",
      "1991   Tokyo  station  35.696858  139.797415   6196            両国\n",
      "1992   Tokyo  station  35.663540  139.731881   6448           六本木\n",
      "1993   Tokyo  station  35.664973  139.738849   6415        六本木一丁目\n",
      "1994   Tokyo  station  35.717286  139.736864   6426           茗荷谷\n",
      "1995   Tokyo  station  35.720358  139.779044   6244            鶯谷\n",
      "\n",
      "[907 rows x 6 columns]\n"
     ]
    },
    {
     "name": "stderr",
     "output_type": "stream",
     "text": [
      "c:\\Users\\nyama\\anaconda\\envs\\MyPlatform\\lib\\site-packages\\geopandas\\io\\file.py:299: FutureWarning: pandas.Int64Index is deprecated and will be removed from pandas in a future version. Use pandas.Index with the appropriate dtype instead.\n",
      "  pd.Int64Index,\n"
     ]
    }
   ],
   "source": [
    "import pandas as pd\n",
    "import geopandas as gpd\n",
    "from shapely.geometry import Point\n",
    "\n",
    "# ファイル名、シート名、対象都市を用意する。\n",
    "filename = \"stations_2020\"\n",
    "sheetname = \"stations_2020\"\n",
    "targets = [\"Tokyo\", \"London\", \"New York\"]\n",
    "target_col = \"city\"\n",
    "lat = \"x\"\n",
    "lon = \"y\"\n",
    "\n",
    "# DataFrame to GeoJSON の関数を定義する。\n",
    "def df_to_gdf(input_df):\n",
    "    df = input_df.copy()\n",
    "    geometry = [Point(xy) for xy in zip(df[lon], df[lat])]\n",
    "    return gpd.GeoDataFrame(df, crs=4326, geometry=geometry)      \n",
    "\n",
    "# Excel fileを読み込む。\n",
    "df1 = pd.read_excel(filename + \".xlsx\", sheet_name=sheetname)\n",
    "\n",
    "# 対象都市の行を抽出する。\n",
    "df2 = df1[df1[target_col].isin(targets)]\n",
    "print(df2)\n",
    "\n",
    "# df2geojson関数を実行する。\n",
    "gdf = df_to_gdf(df2)\n",
    "\n",
    "# GeoJSONファイルを書き出す。\n",
    "gdf.to_file(\"../geojson/\" + filename + \".geojson\", driver=\"GeoJSON\")  \n"
   ]
  },
  {
   "cell_type": "code",
   "execution_count": null,
   "id": "f85148c9",
   "metadata": {},
   "outputs": [],
   "source": []
  }
 ],
 "metadata": {
  "kernelspec": {
   "display_name": "Python 3",
   "language": "python",
   "name": "python3"
  },
  "language_info": {
   "codemirror_mode": {
    "name": "ipython",
    "version": 3
   },
   "file_extension": ".py",
   "mimetype": "text/x-python",
   "name": "python",
   "nbconvert_exporter": "python",
   "pygments_lexer": "ipython3",
   "version": "3.9.12"
  }
 },
 "nbformat": 4,
 "nbformat_minor": 5
}
