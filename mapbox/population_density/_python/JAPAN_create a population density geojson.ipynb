{
 "cells": [
  {
   "cell_type": "markdown",
   "id": "gothic-lover",
   "metadata": {},
   "source": [
    "ImportError: The descartes package is required for plotting polygons in geopandas<br>\n",
    "-> conda install descartes"
   ]
  },
  {
   "cell_type": "code",
   "execution_count": 1,
   "id": "after-container",
   "metadata": {},
   "outputs": [
    {
     "name": "stdout",
     "output_type": "stream",
     "text": [
      "     NEW_ID  ken   gun name1 name2     区分   地域  都道府  都市名   タイプ     市区町  \\\n",
      "0     01100  北海道  None   札幌市   中央区  138.0  北海道  北海道   札幌  政令指定  011002   \n",
      "1     01202  北海道  None   函館市  None  138.0  北海道  北海道   函館   その他  012025   \n",
      "2     01204  北海道  None   旭川市  None  138.0  北海道  北海道   旭川   その他  012041   \n",
      "3     01206  北海道  None   釧路市  None  138.0  北海道  北海道   釧路   その他  012068   \n",
      "4     01213  北海道  None  苫小牧市  None  138.0  北海道  北海道  苫小牧   その他  012131   \n",
      "...     ...  ...   ...   ...   ...    ...  ...  ...  ...   ...     ...   \n",
      "1974  43105  NaN   NaN   NaN   NaN    NaN  NaN  NaN  NaN   NaN     NaN   \n",
      "1975  44000  NaN   NaN   NaN   NaN    NaN  NaN  NaN  NaN   NaN     NaN   \n",
      "1976  45000  NaN   NaN   NaN   NaN    NaN  NaN  NaN  NaN   NaN     NaN   \n",
      "1977  46000  NaN   NaN   NaN   NaN    NaN  NaN  NaN  NaN   NaN     NaN   \n",
      "1978  47000  NaN   NaN   NaN   NaN    NaN  NaN  NaN  NaN   NaN     NaN   \n",
      "\n",
      "                                               geometry     年次 市区町村コード  \\\n",
      "0     POLYGON ((141.40864 43.18412, 141.40434 43.182...  2020年    1100   \n",
      "1     MULTIPOLYGON (((140.99836 41.71415, 140.99823 ...  2020年    1202   \n",
      "2     POLYGON ((142.42092 43.94284, 142.42438 43.942...  2020年    1204   \n",
      "3     MULTIPOLYGON (((144.44945 42.94122, 144.44931 ...  2020年    1206   \n",
      "4     MULTIPOLYGON (((141.76964 42.58669, 141.76945 ...  2020年    1213   \n",
      "...                                                 ...    ...     ...   \n",
      "1974                                               None  2020年   43105   \n",
      "1975                                               None  2020年   44000   \n",
      "1976                                               None  2020年   45000   \n",
      "1977                                               None  2020年   46000   \n",
      "1978                                               None  2020年   47000   \n",
      "\n",
      "     全国，都道府県，市区町村       昼間人口  \n",
      "0             札幌市  1,974,164  \n",
      "1             函館市    257,568  \n",
      "2             旭川市    331,123  \n",
      "3             釧路市    166,088  \n",
      "4            苫小牧市    170,056  \n",
      "...           ...        ...  \n",
      "1974        熊本市北区    126,411  \n",
      "1975          大分県  1,123,160  \n",
      "1976          宮崎県  1,068,793  \n",
      "1977         鹿児島県  1,586,642  \n",
      "1978          沖縄県  1,467,261  \n",
      "\n",
      "[1979 rows x 16 columns]\n"
     ]
    },
    {
     "name": "stderr",
     "output_type": "stream",
     "text": [
      "c:\\Users\\nyama\\anaconda\\envs\\MyPlatform\\lib\\site-packages\\geopandas\\geodataframe.py:1322: SettingWithCopyWarning: \n",
      "A value is trying to be set on a copy of a slice from a DataFrame.\n",
      "Try using .loc[row_indexer,col_indexer] = value instead\n",
      "\n",
      "See the caveats in the documentation: https://pandas.pydata.org/pandas-docs/stable/user_guide/indexing.html#returning-a-view-versus-a-copy\n",
      "  super(GeoDataFrame, self).__setitem__(key, value)\n",
      "c:\\Users\\nyama\\anaconda\\envs\\MyPlatform\\lib\\site-packages\\geopandas\\geodataframe.py:1322: SettingWithCopyWarning: \n",
      "A value is trying to be set on a copy of a slice from a DataFrame.\n",
      "Try using .loc[row_indexer,col_indexer] = value instead\n",
      "\n",
      "See the caveats in the documentation: https://pandas.pydata.org/pandas-docs/stable/user_guide/indexing.html#returning-a-view-versus-a-copy\n",
      "  super(GeoDataFrame, self).__setitem__(key, value)\n",
      "c:\\Users\\nyama\\anaconda\\envs\\MyPlatform\\lib\\site-packages\\geopandas\\io\\file.py:299: FutureWarning: pandas.Int64Index is deprecated and will be removed from pandas in a future version. Use pandas.Index with the appropriate dtype instead.\n",
      "  pd.Int64Index,\n"
     ]
    },
    {
     "name": "stdout",
     "output_type": "stream",
     "text": [
      "completed\n"
     ]
    }
   ],
   "source": [
    "import geopandas as gpd\n",
    "import pandas as pd\n",
    "\n",
    "# Read shapefile\n",
    "gdf = gpd.read_file(\"./shapefile/city2021_ok.shp\", encoding='utf-8')\n",
    "\n",
    "# shapefileのgeometryを単純化（simplify）する。\n",
    "cities = gdf.geometry\n",
    "simplified = cities.simplify(tolerance=0.00085, preserve_topology=True)\n",
    "\n",
    "# geometryデータを書き換える。\n",
    "gdf[\"geometry\"] = simplified\n",
    "\n",
    "# Read csv data\n",
    "df = pd.read_csv(\"./csv/国勢調査2020_夜間人口.csv\").astype(str)\n",
    "\n",
    "# 都市コードをゼロ埋めの5桁表示にする。\n",
    "code = []\n",
    "for i in df[\"市区町村コード\"]:\n",
    "    code.append(i.zfill(5))\n",
    "df.loc[:,\"NEW_ID\"] = code\n",
    "\n",
    "# データフレームを結合する。\n",
    "merged_data = pd.merge(gdf,df, left_on='NEW_ID', right_on='NEW_ID',how=\"outer\")\n",
    "gdf2 = gpd.GeoDataFrame(merged_data)\n",
    "print(gdf2)\n",
    "\n",
    "# geometryが空白の行を削除する。\n",
    "gdf3 = gdf2.dropna(subset=['geometry'])\n",
    "\n",
    "# 面積を計測する。\n",
    "areas = []\n",
    "for name, geo in zip(gdf3[\"name1\"], gdf3[\"geometry\"]):\n",
    "    # 面積出力\n",
    "    area = \"{:.2f}\".format(float(geo.area*10000))\n",
    "    areas.append(area)\n",
    "\n",
    "# 面積の列を追加する。\n",
    "gdf3.loc[:,\"面積\"] = areas\n",
    "\n",
    "# 人口密度を算出する。\n",
    "densities = []\n",
    "for i, j in zip(gdf3[\"夜間人口\"] , gdf3[\"面積\"]):\n",
    "    try:\n",
    "        densities.append(float(i)/float(j))\n",
    "    except:\n",
    "        densities.append(0)\n",
    "\n",
    "# 人口密度の列を追加する。\n",
    "gdf3.loc[:,\"人口密度\"] = densities\n",
    "\n",
    "# Export as geojson\n",
    "gdf3.to_file(\"population_density_japan.geojson\", driver='GeoJSON')\n",
    "\n",
    "print(\"completed\")\n"
   ]
  }
 ],
 "metadata": {
  "kernelspec": {
   "display_name": "Python 3",
   "language": "python",
   "name": "python3"
  },
  "language_info": {
   "codemirror_mode": {
    "name": "ipython",
    "version": 3
   },
   "file_extension": ".py",
   "mimetype": "text/x-python",
   "name": "python",
   "nbconvert_exporter": "python",
   "pygments_lexer": "ipython3",
   "version": "3.9.12"
  }
 },
 "nbformat": 4,
 "nbformat_minor": 5
}
