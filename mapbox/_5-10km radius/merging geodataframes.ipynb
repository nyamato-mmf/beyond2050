{
 "cells": [
  {
   "cell_type": "code",
   "execution_count": 1,
   "metadata": {},
   "outputs": [
    {
     "name": "stdout",
     "output_type": "stream",
     "text": [
      "   OBJECTID  Distance DistUnit DistType       CenterX       CenterY  \\\n",
      "0         1         5   キロメートル   Radius  1.555721e+07  4.257413e+06   \n",
      "1         1        10   キロメートル   Radius  1.555721e+07  4.257413e+06   \n",
      "2         1         5   キロメートル   Radius -1.425736e+04  6.711669e+06   \n",
      "3         1        10   キロメートル   Radius -1.425736e+04  6.711669e+06   \n",
      "4         1         5   キロメートル   Radius -8.236033e+06  4.976734e+06   \n",
      "5         1        10   キロメートル   Radius -8.236033e+06  4.976734e+06   \n",
      "\n",
      "    Shape_Length    Shape_Area  \\\n",
      "0   38713.845954  1.192268e+08   \n",
      "1   77427.722087  4.769074e+08   \n",
      "2   50428.866719  2.023027e+08   \n",
      "3  100857.821831  8.092121e+08   \n",
      "4   41488.640315  1.369305e+08   \n",
      "5   82977.321565  5.477227e+08   \n",
      "\n",
      "                                            geometry  \n",
      "0  POLYGON ((139.80801 35.68534, 139.80790 35.688...  \n",
      "1  POLYGON ((139.86325 35.68530, 139.86303 35.691...  \n",
      "2  POLYGON ((-0.05606 51.50809, -0.05620 51.51094...  \n",
      "3  POLYGON ((0.01596 51.50802, 0.01569 51.51372, ...  \n",
      "4  POLYGON ((-73.92633 40.75814, -73.92645 40.760...  \n",
      "5  POLYGON ((-73.86712 40.75809, -73.86735 40.763...  \n",
      "終了しました。\n"
     ]
    },
    {
     "name": "stderr",
     "output_type": "stream",
     "text": [
      "c:\\Users\\nyama\\anaconda\\envs\\MyPlatform\\lib\\site-packages\\geopandas\\io\\file.py:299: FutureWarning: pandas.Int64Index is deprecated and will be removed from pandas in a future version. Use pandas.Index with the appropriate dtype instead.\n",
      "  pd.Int64Index,\n"
     ]
    }
   ],
   "source": [
    "import geopandas as gpd\n",
    "import pandas as pd\n",
    "\n",
    "# Define the file paths for your GeoJSON files\n",
    "file_paths = [\n",
    "    \"./geojson/TYO_5km.geojson\",\n",
    "    \"./geojson/TYO_10km.geojson\",\n",
    "    \"./geojson/LON_5km.geojson\",\n",
    "    \"./geojson/LON_10km.geojson\",\n",
    "    \"./geojson/NYC_5km.geojson\",\n",
    "    \"./geojson/NYC_10km.geojson\",\n",
    "]\n",
    "\n",
    "# Read each GeoJSON file and store them in a list\n",
    "gdf_list = [gpd.read_file(file, encoding='utf-8') for file in file_paths]\n",
    "\n",
    "# Concatenate the list of GeoDataFrames into a single GeoDataFrame\n",
    "gdf_joined = pd.concat(gdf_list, ignore_index=True)\n",
    "print(gdf_joined)\n",
    "\n",
    "# geojsonデータを保存する。\n",
    "gdf_joined.to_file(\"radius_5-10km.geojson\", driver='GeoJSON', encoding='utf-8')\n",
    "print(\"終了しました。\")\n"
   ]
  },
  {
   "cell_type": "code",
   "execution_count": null,
   "metadata": {},
   "outputs": [],
   "source": []
  }
 ],
 "metadata": {
  "kernelspec": {
   "display_name": "MyPlatform",
   "language": "python",
   "name": "python3"
  },
  "language_info": {
   "codemirror_mode": {
    "name": "ipython",
    "version": 3
   },
   "file_extension": ".py",
   "mimetype": "text/x-python",
   "name": "python",
   "nbconvert_exporter": "python",
   "pygments_lexer": "ipython3",
   "version": "3.9.12"
  }
 },
 "nbformat": 4,
 "nbformat_minor": 2
}
