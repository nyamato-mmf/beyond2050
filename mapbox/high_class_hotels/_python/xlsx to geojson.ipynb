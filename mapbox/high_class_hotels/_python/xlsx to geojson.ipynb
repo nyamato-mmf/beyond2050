{
 "cells": [
  {
   "cell_type": "code",
   "execution_count": 1,
   "id": "7702d138",
   "metadata": {},
   "outputs": [
    {
     "name": "stdout",
     "output_type": "stream",
     "text": [
      "       city        距離                                       Name  star  \\\n",
      "0    London  3.613313                  The Prince Akatoki London     5   \n",
      "1    London  3.422617  The Capital Hotel, Apartments & Townhouse     5   \n",
      "2    London  1.498191                    Conrad London St. James     5   \n",
      "3    London  1.676610                            Rosewood London     5   \n",
      "4    London  6.051074      London Villa - 33 St Stephens Gardens     5   \n",
      "..      ...       ...                                        ...   ...   \n",
      "400   Tokyo  0.786312                            HOSHINOYA Tokyo     5   \n",
      "401   Tokyo  6.778050       Kimpton Shinjuku Tokyo, an IHG Hotel     5   \n",
      "402   Tokyo  3.611646                    The Ritz-Carlton, Tokyo     5   \n",
      "403   Tokyo  2.453477                    The Capitol Hotel Tokyu     5   \n",
      "404   Tokyo  3.492385                The Prince Park Tower Tokyo     5   \n",
      "\n",
      "                                         hotel_address          y           x  \n",
      "0    50 Great Cumberland Place, London, W1H 7FD, En...  51.516005   -0.160204  \n",
      "1    22-24 Basil Street, London, SW3 1AT, England, ...  51.499969   -0.161429  \n",
      "2    22-28 Broadway, London, SW1H 0BH, England, Uni...  51.499478   -0.133098  \n",
      "3    252 High Holborn, London, WC1V 7EN, England, U...  51.517801   -0.118017  \n",
      "4    33 St Stephens Gardens, London, W2 5NA, Englan...  51.518010   -0.196325  \n",
      "..                                                 ...        ...         ...  \n",
      "400             1-9-1 Otemachi, Tokyo, 100-0004, Japan  35.687990  139.764800  \n",
      "401  3 CHOME-4-7 NISHISHINJUKU, Tokyo, 160-0023, Japan  35.685783  139.692305  \n",
      "402  Tokyo Midtown 9-7-1 Akasaka Minato-ku, Tokyo, ...  35.666778  139.731256  \n",
      "403  2-10-3 Nagata-cho, Tokyo, 100-0014, Tokyo-to, ...  35.674033  139.741380  \n",
      "404  4-8-1 Shibakoen Minato-ku, Tokyo, 105-8563, To...  35.654410  139.746890  \n",
      "\n",
      "[405 rows x 7 columns]\n"
     ]
    },
    {
     "name": "stderr",
     "output_type": "stream",
     "text": [
      "c:\\Users\\nyama\\anaconda\\envs\\MyPlatform\\lib\\site-packages\\geopandas\\io\\file.py:299: FutureWarning: pandas.Int64Index is deprecated and will be removed from pandas in a future version. Use pandas.Index with the appropriate dtype instead.\n",
      "  pd.Int64Index,\n"
     ]
    }
   ],
   "source": [
    "import pandas as pd\n",
    "import geopandas as gpd\n",
    "from shapely.geometry import Point\n",
    "from pathlib import Path\n",
    "\n",
    "# フォルダを作成する\n",
    "geojson_folder = Path(\"../geojson\")\n",
    "geojson_folder.mkdir(exist_ok=True)  # フォルダ作成\n",
    "\n",
    "# ファイル名、シート名、対象都市を用意する。\n",
    "filename = \"high_class_hotels\"\n",
    "sheetname = \"high_class_hotels\"\n",
    "targets = [\"London\", \"New York\", \"Tokyo\", \"Paris\", \"Singapore\"]\n",
    "target_col = \"city\"\n",
    "lat = \"y\"\n",
    "lon = \"x\"\n",
    "\n",
    "# DataFrame to GeoJSON の関数を定義する。\n",
    "def df_to_gdf(input_df):\n",
    "    df = input_df.copy()\n",
    "    geometry = [Point(xy) for xy in zip(df[lon], df[lat])]\n",
    "    return gpd.GeoDataFrame(df, crs=4326, geometry=geometry)      \n",
    "\n",
    "# Excel fileを読み込む。\n",
    "df1 = pd.read_excel(filename + \".xlsx\", sheet_name=sheetname)\n",
    "\n",
    "# 対象都市の行を抽出する。\n",
    "df2 = df1[df1[target_col].isin(targets)]\n",
    "print(df2)\n",
    "\n",
    "# df2geojson関数を実行する。\n",
    "gdf = df_to_gdf(df2)\n",
    "\n",
    "# GeoJSONファイルを書き出す。\n",
    "gdf.to_file(\"../geojson/\" + filename  + \".geojson\", driver=\"GeoJSON\")  \n"
   ]
  },
  {
   "cell_type": "code",
   "execution_count": null,
   "id": "f85148c9",
   "metadata": {},
   "outputs": [],
   "source": []
  }
 ],
 "metadata": {
  "kernelspec": {
   "display_name": "Python 3",
   "language": "python",
   "name": "python3"
  },
  "language_info": {
   "codemirror_mode": {
    "name": "ipython",
    "version": 3
   },
   "file_extension": ".py",
   "mimetype": "text/x-python",
   "name": "python",
   "nbconvert_exporter": "python",
   "pygments_lexer": "ipython3",
   "version": "3.9.12"
  }
 },
 "nbformat": 4,
 "nbformat_minor": 5
}
