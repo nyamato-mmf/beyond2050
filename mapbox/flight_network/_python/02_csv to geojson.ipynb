{
 "cells": [
  {
   "cell_type": "code",
   "execution_count": 2,
   "id": "7702d138",
   "metadata": {},
   "outputs": [
    {
     "name": "stdout",
     "output_type": "stream",
     "text": [
      "終了しました\n"
     ]
    }
   ],
   "source": [
    "from pathlib import Path\n",
    "import pandas as pd  # Added import for pandas\n",
    "import geopandas as gpd\n",
    "from shapely.geometry import LineString\n",
    "import glob\n",
    "import os\n",
    "\n",
    "# Create a new folder if it does not exist\n",
    "folder = Path(\"./02_geojson\")\n",
    "folder.mkdir(exist_ok=True)  # Corrected to boolean\n",
    "\n",
    "def df_to_gdf(input_df):\n",
    "    df = input_df.copy()\n",
    "\n",
    "    def adjust_longitude(lon):\n",
    "        # Ensure longitudes are within the range [-180, 180]\n",
    "        return (lon + 180) % 360 - 180\n",
    "\n",
    "    def create_linestring(row):\n",
    "        dep_lon, dep_lat = adjust_longitude(row['dep_lon']), row['dep_lat']\n",
    "        arr_lon, arr_lat = adjust_longitude(row['arr_lon']), row['arr_lat']\n",
    "\n",
    "        # Handle the case where crossing the antimeridian is the shorter path\n",
    "        if abs(dep_lon - arr_lon) > 180:\n",
    "            if dep_lon > arr_lon:\n",
    "                arr_lon += 360\n",
    "            else:\n",
    "                dep_lon += 360\n",
    "        \n",
    "        return LineString([(dep_lon, dep_lat), (arr_lon, arr_lat)])\n",
    "\n",
    "    geometry = [create_linestring(row) for _, row in df.iterrows()]\n",
    "    return gpd.GeoDataFrame(df, crs=\"EPSG:4326\", geometry=geometry)\n",
    "\n",
    "# Use glob to get all CSV files\n",
    "files = glob.glob(\"./01_geocoding/*.csv\")\n",
    "#print(len(files), \"ファイル\")\n",
    "\n",
    "for file in files:\n",
    "    # Read the file\n",
    "    filename = Path(file).stem  # Use Pathlib to get the file name without extension\n",
    "\n",
    "    # Read data\n",
    "    df = pd.read_csv(file)\n",
    "\n",
    "        # Prepare data for pivot table\n",
    "    df_intl = df[df[\"International/Domestic\"] == \"International\"]\n",
    "\n",
    "    # Create LineString from origin to destination coordinates\n",
    "    gdf = df_to_gdf(df_intl)\n",
    "\n",
    "    # Save as GeoJSON\n",
    "    gdf.to_file(folder / f\"fly-{filename}_linestring.geojson\", driver=\"GeoJSON\")  # Use Pathlib for consistency\n",
    "\n",
    "print(\"終了しました\")\n"
   ]
  },
  {
   "cell_type": "code",
   "execution_count": null,
   "id": "f85148c9",
   "metadata": {},
   "outputs": [],
   "source": []
  }
 ],
 "metadata": {
  "kernelspec": {
   "display_name": "Python 3",
   "language": "python",
   "name": "python3"
  },
  "language_info": {
   "codemirror_mode": {
    "name": "ipython",
    "version": 3
   },
   "file_extension": ".py",
   "mimetype": "text/x-python",
   "name": "python",
   "nbconvert_exporter": "python",
   "pygments_lexer": "ipython3",
   "version": "3.10.11"
  }
 },
 "nbformat": 4,
 "nbformat_minor": 5
}
