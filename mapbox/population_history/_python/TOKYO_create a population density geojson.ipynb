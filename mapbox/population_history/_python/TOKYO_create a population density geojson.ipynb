{
 "cells": [
  {
   "cell_type": "markdown",
   "id": "gothic-lover",
   "metadata": {},
   "source": [
    "ImportError: The descartes package is required for plotting polygons in geopandas<br>\n",
    "-> conda install descartes"
   ]
  },
  {
   "cell_type": "code",
   "execution_count": 2,
   "id": "after-container",
   "metadata": {},
   "outputs": [
    {
     "name": "stdout",
     "output_type": "stream",
     "text": [
      "     NEW_ID  ken   gun  name1   name2     区分    地域   都道府   都市名   タイプ     市区町  \\\n",
      "23    11100  埼玉県  None  さいたま市      西区  138.0    関東   埼玉県  さいたま  政令指定  111007   \n",
      "24    11201  埼玉県  None    川越市    None  138.0    関東   埼玉県    川越   その他  112011   \n",
      "25    11202  埼玉県  None    熊谷市    None  138.0    関東   埼玉県    熊谷   その他  112020   \n",
      "26    12100  千葉県  None    千葉市     中央区  138.0    関東   千葉県    千葉  政令指定  121002   \n",
      "27    12217  千葉県  None     柏市    None  138.0    関東   千葉県     柏   その他  122173   \n",
      "...     ...  ...   ...    ...     ...    ...   ...   ...   ...   ...     ...   \n",
      "770   13401  東京都  None   None     八丈町    0.0  None  None  None  None       0   \n",
      "771   13402  東京都  None   None    青ケ島村    0.0  None  None  None  None       0   \n",
      "772   13421  東京都  None   None    小笠原村    0.0  None  None  None  None       0   \n",
      "773   13999  東京都  None   None    所属未定    0.0  None  None  None  None       0   \n",
      "1752  13199  東京都  None    特別区  境界未定地域    0.0  None  None  None  None       0   \n",
      "\n",
      "         年次 市区町村コード 全国，都道府県，市区町村     夜間人口      面積         人口密度  \\\n",
      "23    2020年   11100        さいたま市  1324025  217.14  6097.563784   \n",
      "24    2020年   11201          川越市   354571  109.02  3252.348193   \n",
      "25    2020年   11202          熊谷市   194415  159.97  1215.321623   \n",
      "26    2020年   12100          千葉市   974951  270.37  3605.988090   \n",
      "27    2020年   12217           柏市   426468  114.79  3715.201673   \n",
      "...     ...     ...          ...      ...     ...          ...   \n",
      "770   2020年   13401          八丈町     7042   70.17   100.356278   \n",
      "771   2020年   13402         青ヶ島村      169    5.73    29.493892   \n",
      "772   2020年   13421         小笠原村     2929   96.46    30.364918   \n",
      "773    None    None         None     None    4.52          NaN   \n",
      "1752   None    None         None     None    2.37          NaN   \n",
      "\n",
      "                                               geometry  \n",
      "23    POLYGON ((139.69633 36.00209, 139.69957 35.998...  \n",
      "24    POLYGON ((139.46765 35.96011, 139.47638 35.960...  \n",
      "25    POLYGON ((139.38292 36.23785, 139.38989 36.231...  \n",
      "26    MULTIPOLYGON (((140.08164 35.58831, 140.10290 ...  \n",
      "27    POLYGON ((139.92028 35.91677, 139.92878 35.918...  \n",
      "...                                                 ...  \n",
      "770   MULTIPOLYGON (((139.85112 33.04970, 139.85106 ...  \n",
      "771   MULTIPOLYGON (((139.77167 32.44356, 139.77152 ...  \n",
      "772   MULTIPOLYGON (((136.07394 20.42279, 136.07362 ...  \n",
      "773   MULTIPOLYGON (((140.34213 29.79393, 140.34154 ...  \n",
      "1752  POLYGON ((139.80743 35.59717, 139.81369 35.589...  \n",
      "\n",
      "[181 rows x 18 columns]\n"
     ]
    },
    {
     "name": "stderr",
     "output_type": "stream",
     "text": [
      "c:\\Users\\nyama\\anaconda\\envs\\MyPlatform\\lib\\site-packages\\geopandas\\geodataframe.py:1322: SettingWithCopyWarning: \n",
      "A value is trying to be set on a copy of a slice from a DataFrame.\n",
      "Try using .loc[row_indexer,col_indexer] = value instead\n",
      "\n",
      "See the caveats in the documentation: https://pandas.pydata.org/pandas-docs/stable/user_guide/indexing.html#returning-a-view-versus-a-copy\n",
      "  super(GeoDataFrame, self).__setitem__(key, value)\n"
     ]
    },
    {
     "name": "stdout",
     "output_type": "stream",
     "text": [
      "      OBJECTID          name  Year JISCODE      人口          人口密度  POLY_AREA  \\\n",
      "0            1  埼玉県 さいたま市浦和区  2010   11107  144786  12534.486341  11.551012   \n",
      "1            2  埼玉県 さいたま市浦和区  2015   11107  154416  13368.179581  11.551012   \n",
      "2            3  埼玉県 さいたま市岩槻区  2010   11110  111286   2262.726110  49.182267   \n",
      "3            4  埼玉県 さいたま市岩槻区  2015   11110  109801   2232.532299  49.182267   \n",
      "4            5  埼玉県 さいたま市見沼区  2010   11104  157143   5139.439694  30.575901   \n",
      "...        ...           ...   ...     ...     ...           ...        ...   \n",
      "2774      6441    東京都北多摩郡保谷町  1960    None   46768   5181.899889   9.025261   \n",
      "2775      6442        東京都墨田区  1960    None  331843  24101.508292  13.768557   \n",
      "2776      6443        東京都目黒区  1960    None  293763  20018.777898  14.674372   \n",
      "2777      6444        東京都立川市  1960    None   67949   9517.647928   7.139264   \n",
      "2778      6445        東京都練馬区  1960    None  305628   6356.365613  48.082193   \n",
      "\n",
      "      Year2                                           geometry  \n",
      "0     2010年  POLYGON ((139.64910 35.89891, 139.65203 35.894...  \n",
      "1     2015年  POLYGON ((139.64829 35.90142, 139.65203 35.894...  \n",
      "2     2010年  POLYGON ((139.69634 36.00209, 139.69958 35.998...  \n",
      "3     2015年  POLYGON ((139.69186 35.99916, 139.69292 35.999...  \n",
      "4     2010年  POLYGON ((139.66681 35.96462, 139.66602 35.963...  \n",
      "...     ...                                                ...  \n",
      "2774  1960年  POLYGON ((139.56564 35.72166, 139.55525 35.721...  \n",
      "2775  1960年  POLYGON ((139.84215 35.71931, 139.83905 35.717...  \n",
      "2776  1960年  POLYGON ((139.71764 35.64166, 139.71323 35.637...  \n",
      "2777  1960年  POLYGON ((139.42727 35.70362, 139.42559 35.701...  \n",
      "2778  1960年  POLYGON ((139.68076 35.73876, 139.67797 35.730...  \n",
      "\n",
      "[2779 rows x 9 columns]\n"
     ]
    },
    {
     "data": {
      "text/plain": [
       "'\\n# データフレームを結合する。\\nmerged_data = pd.merge(gdf2,gdf3, left_on=\\'name1\\', right_on=\\'name\\',how=\"outer\")\\ngdf4 = gpd.GeoDataFrame(merged_data)\\nprint(gdf4)\\n\\n# Export as geojson\\ngdf4.to_file(\"population_history_tokyo.geojson\", driver=\\'GeoJSON\\')\\n\\nprint(\"completed\")\\n'"
      ]
     },
     "execution_count": 2,
     "metadata": {},
     "output_type": "execute_result"
    }
   ],
   "source": [
    "import geopandas as gpd\n",
    "import pandas as pd\n",
    "\n",
    "# Read shapefile\n",
    "gdf = gpd.read_file(\"./geojson/PopDensity_2020.geojson\", encoding='utf-8')\n",
    "gdf2 = gdf[(gdf[\"ken\"] == \"東京都\") | (gdf[\"ken\"] == \"千葉県\") | (gdf[\"ken\"] == \"神奈川県\") | (gdf[\"ken\"] == \"埼玉県\")]\n",
    "print(gdf2)\n",
    "\n",
    "# shapefileのgeometryを単純化（simplify）する。\n",
    "cities = gdf2.geometry\n",
    "simplified = cities.simplify(tolerance=0.00085, preserve_topology=True)\n",
    "\n",
    "# geometryデータを書き換える。\n",
    "gdf2[\"geometry\"] = simplified\n",
    "\n",
    "# Read csv data\n",
    "gdf3 = gpd.read_file(\"./geojson/PopDensity_1950_2015.geojson\")\n",
    "print(gdf3)\n",
    "\n",
    "\"\"\"\n",
    "# データフレームを結合する。\n",
    "merged_data = pd.merge(gdf2,gdf3, left_on='name1', right_on='name',how=\"outer\")\n",
    "gdf4 = gpd.GeoDataFrame(merged_data)\n",
    "print(gdf4)\n",
    "\n",
    "# Export as geojson\n",
    "gdf4.to_file(\"population_history_tokyo.geojson\", driver='GeoJSON')\n",
    "\n",
    "print(\"completed\")\n",
    "\"\"\""
   ]
  },
  {
   "cell_type": "code",
   "execution_count": null,
   "metadata": {},
   "outputs": [],
   "source": []
  }
 ],
 "metadata": {
  "kernelspec": {
   "display_name": "Python 3",
   "language": "python",
   "name": "python3"
  },
  "language_info": {
   "codemirror_mode": {
    "name": "ipython",
    "version": 3
   },
   "file_extension": ".py",
   "mimetype": "text/x-python",
   "name": "python",
   "nbconvert_exporter": "python",
   "pygments_lexer": "ipython3",
   "version": "3.9.12"
  }
 },
 "nbformat": 4,
 "nbformat_minor": 5
}
