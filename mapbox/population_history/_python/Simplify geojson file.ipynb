{
 "cells": [
  {
   "cell_type": "markdown",
   "id": "5ffa6d22",
   "metadata": {},
   "source": [
    "### geojsonデータの読み込み"
   ]
  },
  {
   "cell_type": "code",
   "execution_count": 4,
   "id": "37ef7a1e",
   "metadata": {},
   "outputs": [
    {
     "name": "stdout",
     "output_type": "stream",
     "text": [
      "<class 'geopandas.geoseries.GeoSeries'>\n",
      "0      POLYGON ((141.40864 43.18412, 141.40904 43.185...\n",
      "1      MULTIPOLYGON (((140.99836 41.71415, 140.99884 ...\n",
      "2      POLYGON ((142.42092 43.94284, 142.39909 43.921...\n",
      "3      MULTIPOLYGON (((144.44945 42.94122, 144.44945 ...\n",
      "4      MULTIPOLYGON (((141.76964 42.58669, 141.76780 ...\n",
      "                             ...                        \n",
      "156    POLYGON ((135.61427 34.79155, 135.60988 34.785...\n",
      "157    MULTIPOLYGON (((135.42720 34.49673, 135.42641 ...\n",
      "158    MULTIPOLYGON (((134.98775 34.64074, 134.98349 ...\n",
      "159    MULTIPOLYGON (((134.80607 34.71313, 134.80613 ...\n",
      "160    POLYGON ((135.28295 34.91903, 135.28036 34.921...\n",
      "Length: 161, dtype: geometry\n",
      "終了しました。\n"
     ]
    }
   ],
   "source": [
    "import geopandas as gpd\n",
    "from shapely.geometry import Point, LineString\n",
    "\n",
    "# geojsonデータを読み込む。\n",
    "gdf = gpd.read_file(\"jpc_city2021.geojson\")\n",
    "\n",
    "# geojsonデータを単純化（simplify）する。\n",
    "cities = gdf.geometry\n",
    "print(type(cities))\n",
    "simplified = cities.simplify(tolerance=0.00085, preserve_topology=True)\n",
    "print(simplified)\n",
    "\n",
    "# geojsonデータを書き換える。\n",
    "gdf[\"geometry\"] = simplified\n",
    "\n",
    "# geojsonデータを保存する。\n",
    "gdf.to_file(\"jpc_city2022.geojson\", driver='GeoJSON', encoding='utf-8')\n",
    "print(\"終了しました。\")"
   ]
  },
  {
   "cell_type": "code",
   "execution_count": null,
   "id": "fbd0bae6",
   "metadata": {},
   "outputs": [],
   "source": []
  }
 ],
 "metadata": {
  "kernelspec": {
   "display_name": "Python 3",
   "language": "python",
   "name": "python3"
  },
  "language_info": {
   "codemirror_mode": {
    "name": "ipython",
    "version": 3
   },
   "file_extension": ".py",
   "mimetype": "text/x-python",
   "name": "python",
   "nbconvert_exporter": "python",
   "pygments_lexer": "ipython3",
   "version": "3.8.11"
  }
 },
 "nbformat": 4,
 "nbformat_minor": 5
}
